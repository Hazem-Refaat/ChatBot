{
 "cells": [
  {
   "cell_type": "code",
   "execution_count": null,
   "metadata": {},
   "outputs": [],
   "source": [
    "from transformers import AutoTokenizer , AutoModelForCausalLM\n",
    "import torch"
   ]
  },
  {
   "cell_type": "code",
   "execution_count": null,
   "metadata": {},
   "outputs": [],
   "source": [
    "model = AutoModelForCausalLM.from_pretrained('Model')\n",
    "\n",
    "tokenizer = AutoTokenizer.from_pretrained('Tokenizer')"
   ]
  },
  {
   "cell_type": "code",
   "execution_count": null,
   "metadata": {},
   "outputs": [],
   "source": [
    "import speech_recognition as sr\n",
    "\n",
    "def recognize_speech():\n",
    "    # Initialize the recognizer\n",
    "    recognizer = sr.Recognizer()\n",
    "\n",
    "    # Use the microphone as an audio source\n",
    "    with sr.Microphone() as source:\n",
    "        print(\"Say something...\")\n",
    "        recognizer.adjust_for_ambient_noise(source)  # Adjust for ambient noise\n",
    "        audio = recognizer.listen(source)\n",
    "\n",
    "    try:\n",
    "        # Recognize speech using a speech recognition API\n",
    "        text = recognizer.recognize_google(audio)\n",
    "        return text\n",
    "    except sr.UnknownValueError:\n",
    "        print(\"Could not understand audio\")\n",
    "        return None\n",
    "    except sr.RequestError as e:\n",
    "        print(f\"Could not request results: {e}\")\n",
    "        return None"
   ]
  },
  {
   "cell_type": "code",
   "execution_count": null,
   "metadata": {},
   "outputs": [],
   "source": [
    "def chat_bot():\n",
    "    while True:\n",
    "        user_input =  input(\"You: \")\n",
    "        if user_input.lower() == 'exit':\n",
    "            break\n",
    "        elif user_input.lower() == 'micbutton':\n",
    "            # Use speech recognition and pass the recognized text as user input\n",
    "            recognized_text = recognize_speech()\n",
    "            if recognized_text:\n",
    "                user_input = recognized_text\n",
    "            else:\n",
    "                continue  # Skip the chat_bot loop if speech recognition fails\n",
    "        user_input = \"<USER>\" + user_input + \"<ASSISTANT>\"\n",
    "        temperature = 0.7\n",
    "        max_response_length = 168\n",
    "        input_ids = tokenizer.encode(user_input, truncation=True, return_tensors='pt')\n",
    "        with torch.no_grad():\n",
    "            response = model.generate(input_ids, pad_token_id=tokenizer.eos_token_id, max_length=max_response_length, temperature=temperature)\n",
    "        bot_response = tokenizer.decode(response[0], skip_special_tokens=True)\n",
    "        bot_response = bot_response[len(user_input):].strip()\n",
    "        print(\"Bot: \" + bot_response)"
   ]
  },
  {
   "cell_type": "code",
   "execution_count": null,
   "metadata": {},
   "outputs": [],
   "source": [
    "chat_bot()"
   ]
  }
 ],
 "metadata": {
  "kernelspec": {
   "display_name": "tf-gpu",
   "language": "python",
   "name": "python3"
  },
  "language_info": {
   "codemirror_mode": {
    "name": "ipython",
    "version": 3
   },
   "file_extension": ".py",
   "mimetype": "text/x-python",
   "name": "python",
   "nbconvert_exporter": "python",
   "pygments_lexer": "ipython3",
   "version": "3.9.17"
  },
  "orig_nbformat": 4
 },
 "nbformat": 4,
 "nbformat_minor": 2
}
